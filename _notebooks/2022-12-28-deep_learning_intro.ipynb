{
 "cells": [
  {
   "cell_type": "markdown",
   "id": "6731cf08",
   "metadata": {},
   "source": [
    "# \"Discovering the Cutting-Edge of Medical AI: A Series on the RSNA Deep Learning Lab 2022\"\n",
    "> \"This blog post serves as an introduction to a series of posts about the Radiological Society of North America's (RSNA) annual meeting and its session on AI, machine learning, and deep learning applied to radiology and medicine. The post provides an overview of the RSNA annual meeting, including its history and significance as a scientific society, and summarizes the main themes and ideas presented during the session on AI and machine learning. The post also includes links to the relevant code and resources on the RSNA GitHub repository and encourages readers to follow along with the series for more in-depth coverage of the topics discussed.\"\n",
    "\n",
    "- toc: false\n",
    "- branch: master\n",
    "- badges: true\n",
    "- comments: true\n",
    "- categories: [fastpages, jupyter]\n",
    "- image: images/image1.jpg\n",
    "- hide: false\n",
    "- search_exclude: true\n",
    "- metadata_key1: metadata_value1\n",
    "- metadata_key2: metadata_value2"
   ]
  },
  {
   "cell_type": "markdown",
   "id": "13ac6a76",
   "metadata": {},
   "source": [
    "### Introduction"
   ]
  },
  {
   "cell_type": "markdown",
   "id": "b98ad8d8",
   "metadata": {},
   "source": [
    "Welcome to the first in a series of posts about the Radiological Society of North America's (RSNA) annual meeting and its session on AI, machine learning, and deep learning applied to radiology and medicine. RSNA is a leading scientific society in the field of medical imaging, and its annual meeting is a major event where experts from around the world come together to share research and ideas. The session on AI and machine learning is a particularly exciting part of the annual meeting, as it focuses on the practical applications of these cutting-edge technologies in the medical field.\n",
    "\n",
    "Although the session recordings are reserved for attendants to the annual meeting, the source code of the majority of sessions is available in the form of jupyter notebooks in the official Github repository.\n",
    "\n",
    "In this series of posts, I'll be providing summaries of the sessions, highlighting the key points presented by the speakers, and pointing to the relevant parts of the code. Join us on this journey as we discover the practical side of AI and radiology!"
   ]
  },
  {
   "cell_type": "markdown",
   "id": "f8892566",
   "metadata": {},
   "source": [
    "### RSNA annual meeting"
   ]
  },
  {
   "cell_type": "markdown",
   "id": "d21393eb",
   "metadata": {},
   "source": [
    "The Radiological Society of North America (RSNA) is a professional society of more than 47,000 radiologists, medical physicists, and medical professionals from around the world. Its annual meeting is a major event in the field of medical imaging, attracting thousands of attendees and featuring a wide range of scientific presentations, workshops, and educational opportunities.\n",
    "\n",
    "In addition to the session on AI and machine learning, which is the focus of this series of posts, the annual meeting covers a wide range of topics relevant to radiology and medicine. This includes new research findings, clinical practice guidelines, and advances in technology. There are also opportunities for attendees to participate in hands-on demonstrations and interactive workshops, as well as to visit with vendors and exhibitors who are showcasing the latest products and services in the field.\n"
   ]
  },
  {
   "cell_type": "markdown",
   "id": "76f87444",
   "metadata": {},
   "source": [
    "### Deep Learning Lab"
   ]
  },
  {
   "cell_type": "markdown",
   "id": "d3c817f0",
   "metadata": {},
   "source": [
    "The session on AI and deep learning in radiology and medicine at the RSNA annual meeting featured a number of notable speakers and experts in the field. \n",
    "\n",
    "The main themes and ideas presented during the session focused on the practical applications of these technologies in medical imaging, such as DICOM Data Wrangling and Data Processing, the use of data repositories, classification and segmentation tasks on medical imaging data, Natural Language Processing use on medical texts, Pytorch and MONAI. \n",
    "Overall, the session provided valuable insights into the current state of the field and the potential for AI and machine learning to revolutionize the way that radiology and medicine are practiced in the future."
   ]
  },
  {
   "cell_type": "markdown",
   "id": "3c6227d8",
   "metadata": {},
   "source": [
    "### Conclusion"
   ]
  },
  {
   "cell_type": "markdown",
   "id": "7f5575bf",
   "metadata": {},
   "source": [
    "The deep learning lab at the RSNA annual meeting was a valuable opportunity to learn about the practical applications of these technologies in the medical field. \n",
    "Let's continue exploring these topics in more depth in the rest of the series of posts, where I'll be providing summaries and highlights of the sessions, along with links to the relevant code on the RSNA GitHub repository. We encourage readers to follow along and join us on this journey as we discover the practical side of AI and radiology."
   ]
  },
  {
   "cell_type": "markdown",
   "id": "f486f689",
   "metadata": {},
   "source": [
    "### Relevant links"
   ]
  },
  {
   "cell_type": "markdown",
   "id": "051ae211",
   "metadata": {},
   "source": [
    "- Deep Learning Lab 2022 GitHub : https://github.com/RSNA/AI-Deep-Learning-Lab-2022\n",
    "- RSNA 2022 program : https://eppro02.ativ.me/web/planner.php?id=RSNA22\n",
    "\n"
   ]
  }
 ],
 "metadata": {
  "kernelspec": {
   "display_name": "Python 3 (ipykernel)",
   "language": "python",
   "name": "python3"
  },
  "language_info": {
   "codemirror_mode": {
    "name": "ipython",
    "version": 3
   },
   "file_extension": ".py",
   "mimetype": "text/x-python",
   "name": "python",
   "nbconvert_exporter": "python",
   "pygments_lexer": "ipython3",
   "version": "3.9.13"
  }
 },
 "nbformat": 4,
 "nbformat_minor": 5
}
